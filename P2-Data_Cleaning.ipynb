{
 "cells": [
  {
   "cell_type": "markdown",
   "id": "4cca49eb-a37e-4206-b43a-0fe6235db307",
   "metadata": {},
   "source": [
    "# Cleaning and Preparing Data with Pandas\n",
    "\n",
    "## Introduction\n",
    "\n",
    "In this project, we will demonstrate data cleaning and preparation techniques using Pandas. We will handle missing values, convert data types, filter data, and save the cleaned dataset"
   ]
  },
  {
   "cell_type": "markdown",
   "id": "3a25111a-1cf8-4700-a4ba-48b1d164397e",
   "metadata": {},
   "source": [
    "## Steps\n",
    "\n",
    "1. Load the Dataset\n",
    "2. Understand the Data\n",
    "3. Handle Missing Values\n",
    "4. Convert Data Types\n",
    "5. Filter Data\n",
    "6. Save the Cleaned Data"
   ]
  },
  {
   "cell_type": "markdown",
   "id": "9d4b3591-8eb8-4fbc-8c53-96d1b7d9b897",
   "metadata": {},
   "source": [
    "### Environment Setup"
   ]
  },
  {
   "cell_type": "code",
   "execution_count": null,
   "id": "47275f1e-82af-44d8-a9f3-1b66a596f1b6",
   "metadata": {},
   "outputs": [],
   "source": [
    "import pandas as pd"
   ]
  },
  {
   "cell_type": "markdown",
   "id": "91b86782-259a-4ae5-96db-a5168cdd9937",
   "metadata": {},
   "source": [
    "## 1. Load Data Set\n",
    "\n",
    "We start by loading the Seattle weather dataset using Pandas. This allows us to read the CSV file and display the first few rows to understand its structure."
   ]
  },
  {
   "cell_type": "code",
   "execution_count": 12,
   "id": "5d319530-3069-4ae5-b0a8-078b2258ce45",
   "metadata": {},
   "outputs": [
    {
     "data": {
      "text/html": [
       "<div>\n",
       "<style scoped>\n",
       "    .dataframe tbody tr th:only-of-type {\n",
       "        vertical-align: middle;\n",
       "    }\n",
       "\n",
       "    .dataframe tbody tr th {\n",
       "        vertical-align: top;\n",
       "    }\n",
       "\n",
       "    .dataframe thead th {\n",
       "        text-align: right;\n",
       "    }\n",
       "</style>\n",
       "<table border=\"1\" class=\"dataframe\">\n",
       "  <thead>\n",
       "    <tr style=\"text-align: right;\">\n",
       "      <th></th>\n",
       "      <th>date</th>\n",
       "      <th>precipitation</th>\n",
       "      <th>temp_max</th>\n",
       "      <th>temp_min</th>\n",
       "      <th>wind</th>\n",
       "      <th>weather</th>\n",
       "    </tr>\n",
       "  </thead>\n",
       "  <tbody>\n",
       "    <tr>\n",
       "      <th>0</th>\n",
       "      <td>2012-01-01</td>\n",
       "      <td>0.0</td>\n",
       "      <td>12.8</td>\n",
       "      <td>5.0</td>\n",
       "      <td>4.7</td>\n",
       "      <td>drizzle</td>\n",
       "    </tr>\n",
       "    <tr>\n",
       "      <th>1</th>\n",
       "      <td>2012-01-02</td>\n",
       "      <td>10.9</td>\n",
       "      <td>10.6</td>\n",
       "      <td>2.8</td>\n",
       "      <td>4.5</td>\n",
       "      <td>rain</td>\n",
       "    </tr>\n",
       "    <tr>\n",
       "      <th>2</th>\n",
       "      <td>2012-01-03</td>\n",
       "      <td>0.8</td>\n",
       "      <td>11.7</td>\n",
       "      <td>7.2</td>\n",
       "      <td>2.3</td>\n",
       "      <td>rain</td>\n",
       "    </tr>\n",
       "    <tr>\n",
       "      <th>3</th>\n",
       "      <td>2012-01-04</td>\n",
       "      <td>20.3</td>\n",
       "      <td>12.2</td>\n",
       "      <td>5.6</td>\n",
       "      <td>4.7</td>\n",
       "      <td>rain</td>\n",
       "    </tr>\n",
       "    <tr>\n",
       "      <th>4</th>\n",
       "      <td>2012-01-05</td>\n",
       "      <td>1.3</td>\n",
       "      <td>8.9</td>\n",
       "      <td>2.8</td>\n",
       "      <td>6.1</td>\n",
       "      <td>rain</td>\n",
       "    </tr>\n",
       "  </tbody>\n",
       "</table>\n",
       "</div>"
      ],
      "text/plain": [
       "         date  precipitation  temp_max  temp_min  wind  weather\n",
       "0  2012-01-01            0.0      12.8       5.0   4.7  drizzle\n",
       "1  2012-01-02           10.9      10.6       2.8   4.5     rain\n",
       "2  2012-01-03            0.8      11.7       7.2   2.3     rain\n",
       "3  2012-01-04           20.3      12.2       5.6   4.7     rain\n",
       "4  2012-01-05            1.3       8.9       2.8   6.1     rain"
      ]
     },
     "execution_count": 12,
     "metadata": {},
     "output_type": "execute_result"
    }
   ],
   "source": [
    "data = pd.read_csv(r'seattle-weather.csv')\n",
    "data.head()"
   ]
  },
  {
   "cell_type": "markdown",
   "id": "77a15f6c-3a68-4e7c-ad7c-a6f8f9d08215",
   "metadata": {},
   "source": [
    "## 2. Understand the Data\n",
    "\n",
    "We perform a quick overview of the dataset to understand its structure, data types, and identify any obvious issues such as missing values."
   ]
  },
  {
   "cell_type": "code",
   "execution_count": 13,
   "id": "df6224d3-c680-4326-a39a-b5147faab14c",
   "metadata": {},
   "outputs": [
    {
     "name": "stdout",
     "output_type": "stream",
     "text": [
      "<class 'pandas.core.frame.DataFrame'>\n",
      "RangeIndex: 1461 entries, 0 to 1460\n",
      "Data columns (total 6 columns):\n",
      " #   Column         Non-Null Count  Dtype  \n",
      "---  ------         --------------  -----  \n",
      " 0   date           1461 non-null   object \n",
      " 1   precipitation  1461 non-null   float64\n",
      " 2   temp_max       1461 non-null   float64\n",
      " 3   temp_min       1461 non-null   float64\n",
      " 4   wind           1461 non-null   float64\n",
      " 5   weather        1461 non-null   object \n",
      "dtypes: float64(4), object(2)\n",
      "memory usage: 68.6+ KB\n"
     ]
    }
   ],
   "source": [
    "data.info()"
   ]
  },
  {
   "cell_type": "code",
   "execution_count": 4,
   "id": "b089f85e-8bff-454e-bf80-92857ee3a3f1",
   "metadata": {},
   "outputs": [
    {
     "data": {
      "text/html": [
       "<div>\n",
       "<style scoped>\n",
       "    .dataframe tbody tr th:only-of-type {\n",
       "        vertical-align: middle;\n",
       "    }\n",
       "\n",
       "    .dataframe tbody tr th {\n",
       "        vertical-align: top;\n",
       "    }\n",
       "\n",
       "    .dataframe thead th {\n",
       "        text-align: right;\n",
       "    }\n",
       "</style>\n",
       "<table border=\"1\" class=\"dataframe\">\n",
       "  <thead>\n",
       "    <tr style=\"text-align: right;\">\n",
       "      <th></th>\n",
       "      <th>date</th>\n",
       "      <th>precipitation</th>\n",
       "      <th>temp_max</th>\n",
       "      <th>temp_min</th>\n",
       "      <th>wind</th>\n",
       "      <th>weather</th>\n",
       "    </tr>\n",
       "  </thead>\n",
       "  <tbody>\n",
       "    <tr>\n",
       "      <th>count</th>\n",
       "      <td>1461</td>\n",
       "      <td>1461.000000</td>\n",
       "      <td>1461.000000</td>\n",
       "      <td>1461.000000</td>\n",
       "      <td>1461.000000</td>\n",
       "      <td>1461</td>\n",
       "    </tr>\n",
       "    <tr>\n",
       "      <th>unique</th>\n",
       "      <td>1461</td>\n",
       "      <td>NaN</td>\n",
       "      <td>NaN</td>\n",
       "      <td>NaN</td>\n",
       "      <td>NaN</td>\n",
       "      <td>5</td>\n",
       "    </tr>\n",
       "    <tr>\n",
       "      <th>top</th>\n",
       "      <td>2012-01-01</td>\n",
       "      <td>NaN</td>\n",
       "      <td>NaN</td>\n",
       "      <td>NaN</td>\n",
       "      <td>NaN</td>\n",
       "      <td>rain</td>\n",
       "    </tr>\n",
       "    <tr>\n",
       "      <th>freq</th>\n",
       "      <td>1</td>\n",
       "      <td>NaN</td>\n",
       "      <td>NaN</td>\n",
       "      <td>NaN</td>\n",
       "      <td>NaN</td>\n",
       "      <td>641</td>\n",
       "    </tr>\n",
       "    <tr>\n",
       "      <th>mean</th>\n",
       "      <td>NaN</td>\n",
       "      <td>3.029432</td>\n",
       "      <td>16.439083</td>\n",
       "      <td>8.234771</td>\n",
       "      <td>3.241136</td>\n",
       "      <td>NaN</td>\n",
       "    </tr>\n",
       "    <tr>\n",
       "      <th>std</th>\n",
       "      <td>NaN</td>\n",
       "      <td>6.680194</td>\n",
       "      <td>7.349758</td>\n",
       "      <td>5.023004</td>\n",
       "      <td>1.437825</td>\n",
       "      <td>NaN</td>\n",
       "    </tr>\n",
       "    <tr>\n",
       "      <th>min</th>\n",
       "      <td>NaN</td>\n",
       "      <td>0.000000</td>\n",
       "      <td>-1.600000</td>\n",
       "      <td>-7.100000</td>\n",
       "      <td>0.400000</td>\n",
       "      <td>NaN</td>\n",
       "    </tr>\n",
       "    <tr>\n",
       "      <th>25%</th>\n",
       "      <td>NaN</td>\n",
       "      <td>0.000000</td>\n",
       "      <td>10.600000</td>\n",
       "      <td>4.400000</td>\n",
       "      <td>2.200000</td>\n",
       "      <td>NaN</td>\n",
       "    </tr>\n",
       "    <tr>\n",
       "      <th>50%</th>\n",
       "      <td>NaN</td>\n",
       "      <td>0.000000</td>\n",
       "      <td>15.600000</td>\n",
       "      <td>8.300000</td>\n",
       "      <td>3.000000</td>\n",
       "      <td>NaN</td>\n",
       "    </tr>\n",
       "    <tr>\n",
       "      <th>75%</th>\n",
       "      <td>NaN</td>\n",
       "      <td>2.800000</td>\n",
       "      <td>22.200000</td>\n",
       "      <td>12.200000</td>\n",
       "      <td>4.000000</td>\n",
       "      <td>NaN</td>\n",
       "    </tr>\n",
       "    <tr>\n",
       "      <th>max</th>\n",
       "      <td>NaN</td>\n",
       "      <td>55.900000</td>\n",
       "      <td>35.600000</td>\n",
       "      <td>18.300000</td>\n",
       "      <td>9.500000</td>\n",
       "      <td>NaN</td>\n",
       "    </tr>\n",
       "  </tbody>\n",
       "</table>\n",
       "</div>"
      ],
      "text/plain": [
       "              date  precipitation     temp_max     temp_min         wind  \\\n",
       "count         1461    1461.000000  1461.000000  1461.000000  1461.000000   \n",
       "unique        1461            NaN          NaN          NaN          NaN   \n",
       "top     2012-01-01            NaN          NaN          NaN          NaN   \n",
       "freq             1            NaN          NaN          NaN          NaN   \n",
       "mean           NaN       3.029432    16.439083     8.234771     3.241136   \n",
       "std            NaN       6.680194     7.349758     5.023004     1.437825   \n",
       "min            NaN       0.000000    -1.600000    -7.100000     0.400000   \n",
       "25%            NaN       0.000000    10.600000     4.400000     2.200000   \n",
       "50%            NaN       0.000000    15.600000     8.300000     3.000000   \n",
       "75%            NaN       2.800000    22.200000    12.200000     4.000000   \n",
       "max            NaN      55.900000    35.600000    18.300000     9.500000   \n",
       "\n",
       "       weather  \n",
       "count     1461  \n",
       "unique       5  \n",
       "top       rain  \n",
       "freq       641  \n",
       "mean       NaN  \n",
       "std        NaN  \n",
       "min        NaN  \n",
       "25%        NaN  \n",
       "50%        NaN  \n",
       "75%        NaN  \n",
       "max        NaN  "
      ]
     },
     "execution_count": 4,
     "metadata": {},
     "output_type": "execute_result"
    }
   ],
   "source": [
    "data.describe(include = 'all')"
   ]
  },
  {
   "cell_type": "code",
   "execution_count": 5,
   "id": "df922fc0-42e6-4978-8d59-b41651181248",
   "metadata": {},
   "outputs": [
    {
     "data": {
      "text/plain": [
       "date             0\n",
       "precipitation    0\n",
       "temp_max         0\n",
       "temp_min         0\n",
       "wind             0\n",
       "weather          0\n",
       "dtype: int64"
      ]
     },
     "execution_count": 5,
     "metadata": {},
     "output_type": "execute_result"
    }
   ],
   "source": [
    "data.isnull().sum()"
   ]
  },
  {
   "cell_type": "markdown",
   "id": "d7192efe-09cf-4c5d-9f56-fa850fdc1c8a",
   "metadata": {},
   "source": [
    "## 3. Handle Missing Values\n",
    "\n",
    "We handle missing values in the dataset by either dropping them or filling them with appropriate values. This step ensures that our analysis is not affected by incomplete data."
   ]
  },
  {
   "cell_type": "code",
   "execution_count": 14,
   "id": "22a6b0c3-32bd-452d-92e1-f41114b452ff",
   "metadata": {},
   "outputs": [
    {
     "name": "stdout",
     "output_type": "stream",
     "text": [
      "Data after filling missing values with 0:\n",
      "\n"
     ]
    },
    {
     "data": {
      "text/html": [
       "<div>\n",
       "<style scoped>\n",
       "    .dataframe tbody tr th:only-of-type {\n",
       "        vertical-align: middle;\n",
       "    }\n",
       "\n",
       "    .dataframe tbody tr th {\n",
       "        vertical-align: top;\n",
       "    }\n",
       "\n",
       "    .dataframe thead th {\n",
       "        text-align: right;\n",
       "    }\n",
       "</style>\n",
       "<table border=\"1\" class=\"dataframe\">\n",
       "  <thead>\n",
       "    <tr style=\"text-align: right;\">\n",
       "      <th></th>\n",
       "      <th>date</th>\n",
       "      <th>precipitation</th>\n",
       "      <th>temp_max</th>\n",
       "      <th>temp_min</th>\n",
       "      <th>wind</th>\n",
       "      <th>weather</th>\n",
       "    </tr>\n",
       "  </thead>\n",
       "  <tbody>\n",
       "    <tr>\n",
       "      <th>0</th>\n",
       "      <td>2012-01-01</td>\n",
       "      <td>0.0</td>\n",
       "      <td>12.8</td>\n",
       "      <td>5.0</td>\n",
       "      <td>4.7</td>\n",
       "      <td>drizzle</td>\n",
       "    </tr>\n",
       "    <tr>\n",
       "      <th>1</th>\n",
       "      <td>2012-01-02</td>\n",
       "      <td>10.9</td>\n",
       "      <td>10.6</td>\n",
       "      <td>2.8</td>\n",
       "      <td>4.5</td>\n",
       "      <td>rain</td>\n",
       "    </tr>\n",
       "    <tr>\n",
       "      <th>2</th>\n",
       "      <td>2012-01-03</td>\n",
       "      <td>0.8</td>\n",
       "      <td>11.7</td>\n",
       "      <td>7.2</td>\n",
       "      <td>2.3</td>\n",
       "      <td>rain</td>\n",
       "    </tr>\n",
       "    <tr>\n",
       "      <th>3</th>\n",
       "      <td>2012-01-04</td>\n",
       "      <td>20.3</td>\n",
       "      <td>12.2</td>\n",
       "      <td>5.6</td>\n",
       "      <td>4.7</td>\n",
       "      <td>rain</td>\n",
       "    </tr>\n",
       "    <tr>\n",
       "      <th>4</th>\n",
       "      <td>2012-01-05</td>\n",
       "      <td>1.3</td>\n",
       "      <td>8.9</td>\n",
       "      <td>2.8</td>\n",
       "      <td>6.1</td>\n",
       "      <td>rain</td>\n",
       "    </tr>\n",
       "  </tbody>\n",
       "</table>\n",
       "</div>"
      ],
      "text/plain": [
       "         date  precipitation  temp_max  temp_min  wind  weather\n",
       "0  2012-01-01            0.0      12.8       5.0   4.7  drizzle\n",
       "1  2012-01-02           10.9      10.6       2.8   4.5     rain\n",
       "2  2012-01-03            0.8      11.7       7.2   2.3     rain\n",
       "3  2012-01-04           20.3      12.2       5.6   4.7     rain\n",
       "4  2012-01-05            1.3       8.9       2.8   6.1     rain"
      ]
     },
     "execution_count": 14,
     "metadata": {},
     "output_type": "execute_result"
    }
   ],
   "source": [
    "data_filled = data.fillna(0)\n",
    "\n",
    "print(\"Data after filling missing values with 0:\\n\")\n",
    "data_filled.head()"
   ]
  },
  {
   "cell_type": "markdown",
   "id": "76870d03-c283-4bf8-b50f-8f567249e7f6",
   "metadata": {},
   "source": [
    "## 4. Convert Data Types\n",
    "\n",
    "We convert columns to appropriate data types. For example, the 'date' column is converted to datetime format, and numerical columns are converted to float or integer types."
   ]
  },
  {
   "cell_type": "code",
   "execution_count": 15,
   "id": "480f1a12-4f3f-4dcb-bf3a-2598ebb94e5c",
   "metadata": {},
   "outputs": [
    {
     "name": "stdout",
     "output_type": "stream",
     "text": [
      "Data types after conversion:\n"
     ]
    },
    {
     "data": {
      "text/plain": [
       "date             datetime64[ns]\n",
       "precipitation           float64\n",
       "temp_max                float64\n",
       "temp_min                float64\n",
       "wind                    float64\n",
       "weather                  object\n",
       "dtype: object"
      ]
     },
     "execution_count": 15,
     "metadata": {},
     "output_type": "execute_result"
    }
   ],
   "source": [
    "if 'date' in data.columns:\n",
    "    data['date'] = pd.to_datetime(data['date'])\n",
    "\n",
    "data['precipitation'] = data['precipitation'].astype(float)\n",
    "data['temp_max'] = data['temp_max'].astype(float)\n",
    "data['temp_min'] = data['temp_min'].astype(float)\n",
    "data['wind'] = data['wind'].astype(float)\n",
    "print(\"Data types after conversion:\")\n",
    "data.dtypes"
   ]
  },
  {
   "cell_type": "markdown",
   "id": "4341de70-ca8d-4dac-85e4-9520bc1b17c5",
   "metadata": {},
   "source": [
    "## 5. Filter Data\n",
    "\n",
    "We filter the dataset to include only relevant rows. In this case, we filter the data to include only records from 2013 onwards."
   ]
  },
  {
   "cell_type": "code",
   "execution_count": 16,
   "id": "6a2044b6-b245-4a4f-b00e-a8ed9798917e",
   "metadata": {},
   "outputs": [
    {
     "name": "stdout",
     "output_type": "stream",
     "text": [
      "Data after filtering by date:\n"
     ]
    },
    {
     "data": {
      "text/html": [
       "<div>\n",
       "<style scoped>\n",
       "    .dataframe tbody tr th:only-of-type {\n",
       "        vertical-align: middle;\n",
       "    }\n",
       "\n",
       "    .dataframe tbody tr th {\n",
       "        vertical-align: top;\n",
       "    }\n",
       "\n",
       "    .dataframe thead th {\n",
       "        text-align: right;\n",
       "    }\n",
       "</style>\n",
       "<table border=\"1\" class=\"dataframe\">\n",
       "  <thead>\n",
       "    <tr style=\"text-align: right;\">\n",
       "      <th></th>\n",
       "      <th>date</th>\n",
       "      <th>precipitation</th>\n",
       "      <th>temp_max</th>\n",
       "      <th>temp_min</th>\n",
       "      <th>wind</th>\n",
       "      <th>weather</th>\n",
       "    </tr>\n",
       "  </thead>\n",
       "  <tbody>\n",
       "    <tr>\n",
       "      <th>366</th>\n",
       "      <td>2013-01-01</td>\n",
       "      <td>0.0</td>\n",
       "      <td>5.0</td>\n",
       "      <td>-2.8</td>\n",
       "      <td>2.7</td>\n",
       "      <td>sun</td>\n",
       "    </tr>\n",
       "    <tr>\n",
       "      <th>367</th>\n",
       "      <td>2013-01-02</td>\n",
       "      <td>0.0</td>\n",
       "      <td>6.1</td>\n",
       "      <td>-1.1</td>\n",
       "      <td>3.2</td>\n",
       "      <td>sun</td>\n",
       "    </tr>\n",
       "    <tr>\n",
       "      <th>368</th>\n",
       "      <td>2013-01-03</td>\n",
       "      <td>4.1</td>\n",
       "      <td>6.7</td>\n",
       "      <td>-1.7</td>\n",
       "      <td>3.0</td>\n",
       "      <td>rain</td>\n",
       "    </tr>\n",
       "    <tr>\n",
       "      <th>369</th>\n",
       "      <td>2013-01-04</td>\n",
       "      <td>2.5</td>\n",
       "      <td>10.0</td>\n",
       "      <td>2.2</td>\n",
       "      <td>2.8</td>\n",
       "      <td>rain</td>\n",
       "    </tr>\n",
       "    <tr>\n",
       "      <th>370</th>\n",
       "      <td>2013-01-05</td>\n",
       "      <td>3.0</td>\n",
       "      <td>6.7</td>\n",
       "      <td>4.4</td>\n",
       "      <td>3.1</td>\n",
       "      <td>rain</td>\n",
       "    </tr>\n",
       "  </tbody>\n",
       "</table>\n",
       "</div>"
      ],
      "text/plain": [
       "          date  precipitation  temp_max  temp_min  wind weather\n",
       "366 2013-01-01            0.0       5.0      -2.8   2.7     sun\n",
       "367 2013-01-02            0.0       6.1      -1.1   3.2     sun\n",
       "368 2013-01-03            4.1       6.7      -1.7   3.0    rain\n",
       "369 2013-01-04            2.5      10.0       2.2   2.8    rain\n",
       "370 2013-01-05            3.0       6.7       4.4   3.1    rain"
      ]
     },
     "execution_count": 16,
     "metadata": {},
     "output_type": "execute_result"
    }
   ],
   "source": [
    "data_filtered = data[data['date'] >= '2013-01-01']\n",
    "print(\"Data after filtering by date:\")\n",
    "data_filtered.head()"
   ]
  },
  {
   "cell_type": "markdown",
   "id": "97fb31b4-0e8b-4ef0-bf5d-b51dff681da4",
   "metadata": {},
   "source": [
    "## 6. Save the Cleaned Data\n",
    "\n",
    "Finally, we save the cleaned dataset to a new CSV file. This cleaned data will be used in following analysis and visualizations."
   ]
  },
  {
   "cell_type": "code",
   "execution_count": 17,
   "id": "48e43844-2e10-4e25-8032-1db52ddf47d0",
   "metadata": {},
   "outputs": [],
   "source": [
    "clean_file = r'cleaned_seattle-weather.csv'\n",
    "data_filtered.to_csv(clean_file, index=False)"
   ]
  }
 ],
 "metadata": {
  "kernelspec": {
   "display_name": "Python 3 (ipykernel)",
   "language": "python",
   "name": "python3"
  },
  "language_info": {
   "codemirror_mode": {
    "name": "ipython",
    "version": 3
   },
   "file_extension": ".py",
   "mimetype": "text/x-python",
   "name": "python",
   "nbconvert_exporter": "python",
   "pygments_lexer": "ipython3",
   "version": "3.11.7"
  }
 },
 "nbformat": 4,
 "nbformat_minor": 5
}
